{
  "nbformat": 4,
  "nbformat_minor": 0,
  "metadata": {
    "colab": {
      "provenance": []
    },
    "kernelspec": {
      "name": "python3",
      "display_name": "Python 3"
    },
    "language_info": {
      "name": "python"
    }
  },
  "cells": [
    {
      "cell_type": "code",
      "execution_count": 17,
      "metadata": {
        "id": "v4HQAP2bM65U"
      },
      "outputs": [],
      "source": [
        "# Import required libraries\n",
        "import pandas as pd\n",
        "from sklearn.model_selection import train_test_split\n",
        "from sklearn.preprocessing import StandardScaler\n",
        "from sklearn.ensemble import GradientBoostingRegressor\n",
        "import shap"
      ]
    },
    {
      "cell_type": "code",
      "source": [
        "from google.colab import files\n",
        "uploaded = files.upload()  # Opens a dialog for you to select files\n",
        "\n",
        "# After uploading, load the file into a DataFrame\n",
        "import pandas as pd\n",
        "df = pd.read_excel(\"ProjecT dataset.xlsx\")  # Replace with your actual file name\n",
        "df = df.dropna(axis=1, how='all')  # Drops columns with all values as NaN (empty columns)\n",
        "\n",
        "# Check the remaining columns to verify unwanted columns are removed\n",
        "print(\"Columns after dropping empty ones:\", df.columns)"
      ],
      "metadata": {
        "colab": {
          "base_uri": "https://localhost:8080/",
          "height": 142
        },
        "id": "_bhKWmfgM-Xt",
        "outputId": "25d7869d-7b64-451a-edaa-b89b895e4040"
      },
      "execution_count": 35,
      "outputs": [
        {
          "output_type": "display_data",
          "data": {
            "text/plain": [
              "<IPython.core.display.HTML object>"
            ],
            "text/html": [
              "\n",
              "     <input type=\"file\" id=\"files-727afba9-4086-4935-b5a6-dc0be99c22d0\" name=\"files[]\" multiple disabled\n",
              "        style=\"border:none\" />\n",
              "     <output id=\"result-727afba9-4086-4935-b5a6-dc0be99c22d0\">\n",
              "      Upload widget is only available when the cell has been executed in the\n",
              "      current browser session. Please rerun this cell to enable.\n",
              "      </output>\n",
              "      <script>// Copyright 2017 Google LLC\n",
              "//\n",
              "// Licensed under the Apache License, Version 2.0 (the \"License\");\n",
              "// you may not use this file except in compliance with the License.\n",
              "// You may obtain a copy of the License at\n",
              "//\n",
              "//      http://www.apache.org/licenses/LICENSE-2.0\n",
              "//\n",
              "// Unless required by applicable law or agreed to in writing, software\n",
              "// distributed under the License is distributed on an \"AS IS\" BASIS,\n",
              "// WITHOUT WARRANTIES OR CONDITIONS OF ANY KIND, either express or implied.\n",
              "// See the License for the specific language governing permissions and\n",
              "// limitations under the License.\n",
              "\n",
              "/**\n",
              " * @fileoverview Helpers for google.colab Python module.\n",
              " */\n",
              "(function(scope) {\n",
              "function span(text, styleAttributes = {}) {\n",
              "  const element = document.createElement('span');\n",
              "  element.textContent = text;\n",
              "  for (const key of Object.keys(styleAttributes)) {\n",
              "    element.style[key] = styleAttributes[key];\n",
              "  }\n",
              "  return element;\n",
              "}\n",
              "\n",
              "// Max number of bytes which will be uploaded at a time.\n",
              "const MAX_PAYLOAD_SIZE = 100 * 1024;\n",
              "\n",
              "function _uploadFiles(inputId, outputId) {\n",
              "  const steps = uploadFilesStep(inputId, outputId);\n",
              "  const outputElement = document.getElementById(outputId);\n",
              "  // Cache steps on the outputElement to make it available for the next call\n",
              "  // to uploadFilesContinue from Python.\n",
              "  outputElement.steps = steps;\n",
              "\n",
              "  return _uploadFilesContinue(outputId);\n",
              "}\n",
              "\n",
              "// This is roughly an async generator (not supported in the browser yet),\n",
              "// where there are multiple asynchronous steps and the Python side is going\n",
              "// to poll for completion of each step.\n",
              "// This uses a Promise to block the python side on completion of each step,\n",
              "// then passes the result of the previous step as the input to the next step.\n",
              "function _uploadFilesContinue(outputId) {\n",
              "  const outputElement = document.getElementById(outputId);\n",
              "  const steps = outputElement.steps;\n",
              "\n",
              "  const next = steps.next(outputElement.lastPromiseValue);\n",
              "  return Promise.resolve(next.value.promise).then((value) => {\n",
              "    // Cache the last promise value to make it available to the next\n",
              "    // step of the generator.\n",
              "    outputElement.lastPromiseValue = value;\n",
              "    return next.value.response;\n",
              "  });\n",
              "}\n",
              "\n",
              "/**\n",
              " * Generator function which is called between each async step of the upload\n",
              " * process.\n",
              " * @param {string} inputId Element ID of the input file picker element.\n",
              " * @param {string} outputId Element ID of the output display.\n",
              " * @return {!Iterable<!Object>} Iterable of next steps.\n",
              " */\n",
              "function* uploadFilesStep(inputId, outputId) {\n",
              "  const inputElement = document.getElementById(inputId);\n",
              "  inputElement.disabled = false;\n",
              "\n",
              "  const outputElement = document.getElementById(outputId);\n",
              "  outputElement.innerHTML = '';\n",
              "\n",
              "  const pickedPromise = new Promise((resolve) => {\n",
              "    inputElement.addEventListener('change', (e) => {\n",
              "      resolve(e.target.files);\n",
              "    });\n",
              "  });\n",
              "\n",
              "  const cancel = document.createElement('button');\n",
              "  inputElement.parentElement.appendChild(cancel);\n",
              "  cancel.textContent = 'Cancel upload';\n",
              "  const cancelPromise = new Promise((resolve) => {\n",
              "    cancel.onclick = () => {\n",
              "      resolve(null);\n",
              "    };\n",
              "  });\n",
              "\n",
              "  // Wait for the user to pick the files.\n",
              "  const files = yield {\n",
              "    promise: Promise.race([pickedPromise, cancelPromise]),\n",
              "    response: {\n",
              "      action: 'starting',\n",
              "    }\n",
              "  };\n",
              "\n",
              "  cancel.remove();\n",
              "\n",
              "  // Disable the input element since further picks are not allowed.\n",
              "  inputElement.disabled = true;\n",
              "\n",
              "  if (!files) {\n",
              "    return {\n",
              "      response: {\n",
              "        action: 'complete',\n",
              "      }\n",
              "    };\n",
              "  }\n",
              "\n",
              "  for (const file of files) {\n",
              "    const li = document.createElement('li');\n",
              "    li.append(span(file.name, {fontWeight: 'bold'}));\n",
              "    li.append(span(\n",
              "        `(${file.type || 'n/a'}) - ${file.size} bytes, ` +\n",
              "        `last modified: ${\n",
              "            file.lastModifiedDate ? file.lastModifiedDate.toLocaleDateString() :\n",
              "                                    'n/a'} - `));\n",
              "    const percent = span('0% done');\n",
              "    li.appendChild(percent);\n",
              "\n",
              "    outputElement.appendChild(li);\n",
              "\n",
              "    const fileDataPromise = new Promise((resolve) => {\n",
              "      const reader = new FileReader();\n",
              "      reader.onload = (e) => {\n",
              "        resolve(e.target.result);\n",
              "      };\n",
              "      reader.readAsArrayBuffer(file);\n",
              "    });\n",
              "    // Wait for the data to be ready.\n",
              "    let fileData = yield {\n",
              "      promise: fileDataPromise,\n",
              "      response: {\n",
              "        action: 'continue',\n",
              "      }\n",
              "    };\n",
              "\n",
              "    // Use a chunked sending to avoid message size limits. See b/62115660.\n",
              "    let position = 0;\n",
              "    do {\n",
              "      const length = Math.min(fileData.byteLength - position, MAX_PAYLOAD_SIZE);\n",
              "      const chunk = new Uint8Array(fileData, position, length);\n",
              "      position += length;\n",
              "\n",
              "      const base64 = btoa(String.fromCharCode.apply(null, chunk));\n",
              "      yield {\n",
              "        response: {\n",
              "          action: 'append',\n",
              "          file: file.name,\n",
              "          data: base64,\n",
              "        },\n",
              "      };\n",
              "\n",
              "      let percentDone = fileData.byteLength === 0 ?\n",
              "          100 :\n",
              "          Math.round((position / fileData.byteLength) * 100);\n",
              "      percent.textContent = `${percentDone}% done`;\n",
              "\n",
              "    } while (position < fileData.byteLength);\n",
              "  }\n",
              "\n",
              "  // All done.\n",
              "  yield {\n",
              "    response: {\n",
              "      action: 'complete',\n",
              "    }\n",
              "  };\n",
              "}\n",
              "\n",
              "scope.google = scope.google || {};\n",
              "scope.google.colab = scope.google.colab || {};\n",
              "scope.google.colab._files = {\n",
              "  _uploadFiles,\n",
              "  _uploadFilesContinue,\n",
              "};\n",
              "})(self);\n",
              "</script> "
            ]
          },
          "metadata": {}
        },
        {
          "output_type": "stream",
          "name": "stdout",
          "text": [
            "Saving ProjecT dataset.xlsx to ProjecT dataset (2).xlsx\n",
            "Columns after dropping empty ones: Index(['sampleno.', 'PKS', 'Rice additives', 'RESIN', 'CaCo3', 'Steel',\n",
            "       'graphite', 'sSiC', 'Al2O3', 'Wheat', 'Nile rose', 'Carbon', 'IRON',\n",
            "       'Coconut shell', 'Wear Rate(g/km)'],\n",
            "      dtype='object')\n"
          ]
        }
      ]
    },
    {
      "cell_type": "code",
      "source": [
        "# Define X by dropping the \"Sample Number\" column\n",
        "X = df.drop(columns=[\"Wear Rate(g/km)\"])\n",
        "y = df[\"Wear Rate(g/km)\"]"
      ],
      "metadata": {
        "id": "Camc7UbvNG3C"
      },
      "execution_count": 36,
      "outputs": []
    },
    {
      "cell_type": "code",
      "source": [
        "# Split the data into training and testing sets (80% training, 20% testing)\n",
        "X_train, X_test, y_train, y_test = train_test_split(X, y, test_size=0.2, random_state=42)"
      ],
      "metadata": {
        "id": "J8RrVv4dNv8s"
      },
      "execution_count": 37,
      "outputs": []
    },
    {
      "cell_type": "code",
      "source": [
        "# Standardize the features to improve model performance\n",
        "scaler = StandardScaler()\n",
        "X_train_scaled = scaler.fit_transform(X_train)\n",
        "X_test_scaled = scaler.transform(X_test)"
      ],
      "metadata": {
        "id": "e9xiWmhQOZry"
      },
      "execution_count": 38,
      "outputs": []
    },
    {
      "cell_type": "code",
      "source": [
        "from sklearn.ensemble import RandomForestRegressor\n",
        "from sklearn.model_selection import RandomizedSearchCV\n",
        "from sklearn.metrics import mean_absolute_error, mean_squared_error, r2_score\n",
        "\n",
        "# Step 1: Initialize the Random Forest Regressor\n",
        "rf_model = RandomForestRegressor(random_state=42)\n",
        "\n",
        "# Step 2: Define the hyperparameter grid for tuning\n",
        "param_grid_rf = {\n",
        "    'n_estimators': [50, 100, 200, 500],\n",
        "    'max_depth': [None, 10, 20, 30, 40],\n",
        "    'min_samples_split': [2, 5, 10],\n",
        "    'min_samples_leaf': [1, 2, 4],\n",
        "    'bootstrap': [True, False]\n",
        "}\n",
        "\n",
        "# Step 3: Set up RandomizedSearchCV for tuning\n",
        "random_search_rf = RandomizedSearchCV(\n",
        "    estimator=rf_model,\n",
        "    param_distributions=param_grid_rf,\n",
        "    n_iter=50,  # Number of parameter settings to sample\n",
        "    scoring='neg_mean_absolute_error',  # MAE for evaluation\n",
        "    cv=5,  # 5-fold cross-validation\n",
        "    random_state=42,\n",
        "    n_jobs=-1  # Use all cores\n",
        ")\n",
        "\n",
        "# Fit RandomizedSearchCV to find the best parameters\n",
        "random_search_rf.fit(X_train, y_train)\n",
        "\n",
        "# Step 4: Print the best parameters and score\n",
        "print(\"Best Parameters for Random Forest:\", random_search_rf.best_params_)\n",
        "print(\"Best MAE (negated) for Random Forest:\", -random_search_rf.best_score_)\n",
        "\n",
        "# Step 5: Evaluate the best Random Forest model on the test set\n",
        "best_rf_model = random_search_rf.best_estimator_\n",
        "y_pred_rf = best_rf_model.predict(X_test)\n",
        "\n",
        "# Calculate evaluation metrics\n",
        "mae_rf = mean_absolute_error(y_test, y_pred_rf)\n",
        "mse_rf = mean_squared_error(y_test, y_pred_rf)\n",
        "r2_rf = r2_score(y_test, y_pred_rf)\n",
        "\n",
        "print(f\"Random Forest Model MAE: {mae_rf}\")\n",
        "print(f\"Random Forest Model MSE: {mse_rf}\")\n",
        "print(f\"Random Forest Model R-squared (R²): {r2_rf}\")\n"
      ],
      "metadata": {
        "colab": {
          "base_uri": "https://localhost:8080/"
        },
        "id": "3tH3_FddOdTW",
        "outputId": "7340f8f7-476d-4a38-c3db-bea4fef41f91"
      },
      "execution_count": 39,
      "outputs": [
        {
          "output_type": "stream",
          "name": "stdout",
          "text": [
            "Best Parameters for Random Forest: {'n_estimators': 50, 'min_samples_split': 5, 'min_samples_leaf': 1, 'max_depth': 10, 'bootstrap': False}\n",
            "Best MAE (negated) for Random Forest: 0.6908097142857146\n",
            "Random Forest Model MAE: 1.3386593333333343\n",
            "Random Forest Model MSE: 3.632859679871113\n",
            "Random Forest Model R-squared (R²): 0.4282438500940765\n"
          ]
        }
      ]
    },
    {
      "cell_type": "code",
      "source": [
        "import numpy as np\n",
        "import pandas as pd\n",
        "from sklearn.model_selection import train_test_split\n",
        "from sklearn.ensemble import RandomForestRegressor\n",
        "from sklearn.preprocessing import StandardScaler\n",
        "from sklearn.metrics import mean_absolute_error, mean_squared_error, r2_score\n",
        "\n",
        "# Step 1: Generate synthetic samples by duplicating and adding noise\n",
        "def augment_with_noise(X, y, noise_level=0.01, n_samples=100):\n",
        "    # Randomly select samples to duplicate\n",
        "    X_dup = X.sample(n=n_samples, replace=True, random_state=42).reset_index(drop=True)\n",
        "    y_dup = y.sample(n=n_samples, replace=True, random_state=42).reset_index(drop=True)\n",
        "\n",
        "    # Add Gaussian noise to each feature\n",
        "    X_dup = X_dup + np.random.normal(0, noise_level * X.std(), X_dup.shape)\n",
        "    y_dup = y_dup + np.random.normal(0, noise_level * y.std(), y_dup.shape)\n",
        "\n",
        "    # Concatenate original and synthetic samples\n",
        "    X_augmented = pd.concat([X, X_dup], axis=0).reset_index(drop=True)\n",
        "    y_augmented = pd.concat([y, y_dup], axis=0).reset_index(drop=True)\n",
        "\n",
        "    return X_augmented, y_augmented\n",
        "\n",
        "# Apply noise-based augmentation\n",
        "X_augmented, y_augmented = augment_with_noise(X, y, noise_level=0.01, n_samples=100)\n",
        "\n",
        "# Step 2: Split augmented data into train and test sets\n",
        "X_train_aug, X_test_aug, y_train_aug, y_test_aug = train_test_split(X_augmented, y_augmented, test_size=0.2, random_state=42)\n",
        "\n",
        "# Step 3: Standardize the augmented features\n",
        "scaler = StandardScaler()\n",
        "X_train_aug_scaled = scaler.fit_transform(X_train_aug)\n",
        "X_test_aug_scaled = scaler.transform(X_test_aug)\n",
        "\n",
        "# Step 4: Train the Random Forest model on the augmented dataset\n",
        "model_augmented = RandomForestRegressor(random_state=42)\n",
        "model_augmented.fit(X_train_aug_scaled, y_train_aug)\n",
        "\n",
        "# Step 5: Evaluate the model on the test set\n",
        "y_pred_aug = model_augmented.predict(X_test_aug_scaled)\n",
        "mae_aug = mean_absolute_error(y_test_aug, y_pred_aug)\n",
        "mse_aug = mean_squared_error(y_test_aug, y_pred_aug)\n",
        "r2_aug = r2_score(y_test_aug, y_pred_aug)\n",
        "\n",
        "print(f\"Augmented Model MAE: {mae_aug}\")\n",
        "print(f\"Augmented Model MSE: {mse_aug}\")\n",
        "print(f\"Augmented Model R-squared (R²): {r2_aug}\")"
      ],
      "metadata": {
        "colab": {
          "base_uri": "https://localhost:8080/"
        },
        "id": "oBRY4GpgQg7Z",
        "outputId": "5f23347d-7202-428b-b449-17a846cbdaad"
      },
      "execution_count": 40,
      "outputs": [
        {
          "output_type": "stream",
          "name": "stdout",
          "text": [
            "Augmented Model MAE: 0.2821601321930761\n",
            "Augmented Model MSE: 0.19225571209948192\n",
            "Augmented Model R-squared (R²): 0.9386178558399393\n"
          ]
        }
      ]
    },
    {
      "cell_type": "code",
      "source": [
        "import random\n",
        "\n",
        "# Define new input with 'sampleno' and relevant feature values\n",
        "new_input = pd.DataFrame([{\n",
        "    \"sampleno.\": random.randint(1, 5),  # Random number between 1 and 5\n",
        "    \"PKS\": 30,  # Example values; replace with actual input\n",
        "    \"Rice additives\": 5,\n",
        "    \"RESIN\": 20,\n",
        "    \"CaCo3\": 15,\n",
        "    \"Steel\": 10,\n",
        "    \"graphite\": 8,\n",
        "    \"sSiC\": 12,\n",
        "    \"Al2O3\": 3,\n",
        "    \"Wheat\": 6,\n",
        "    \"Nile rose\": 2,\n",
        "    \"Carbon\": 9,\n",
        "    \"IRON\": 7,\n",
        "    \"Coconut shell\": 4\n",
        "}])\n",
        "\n",
        "# Standardize and make prediction\n",
        "new_input_scaled = scaler.transform(new_input)\n",
        "predicted_wear_rate = model_augmented.predict(new_input_scaled)\n",
        "\n",
        "# Display the prediction\n",
        "print(\"Predicted Wear Rate:\", predicted_wear_rate[0])\n"
      ],
      "metadata": {
        "colab": {
          "base_uri": "https://localhost:8080/"
        },
        "id": "aO83o4cfVDBx",
        "outputId": "e8b57c92-b2bd-44f7-83a2-ca84d746c02b"
      },
      "execution_count": 41,
      "outputs": [
        {
          "output_type": "stream",
          "name": "stdout",
          "text": [
            "Predicted Wear Rate: 3.6175610455100293\n"
          ]
        }
      ]
    },
    {
      "cell_type": "code",
      "source": [],
      "metadata": {
        "id": "TDhFwt9CB7D4"
      },
      "execution_count": null,
      "outputs": []
    }
  ]
}